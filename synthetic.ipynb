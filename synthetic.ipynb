{
 "cells": [
  {
   "cell_type": "code",
   "execution_count": 1,
   "source": [
    "from dataloaders.lidc import LIDC_IDRI\n",
    "from dataloaders.lidc import LIDC_SYN\n",
    "from skimage.morphology import disk, dilation, erosion\n",
    "import matplotlib.pyplot as plt"
   ],
   "outputs": [],
   "metadata": {}
  },
  {
   "cell_type": "code",
   "execution_count": 2,
   "source": [
    "data = LIDC_SYN()"
   ],
   "outputs": [
    {
     "output_type": "stream",
     "name": "stdout",
     "text": [
      "Loading file data_lidc.pickle\n"
     ]
    }
   ],
   "metadata": {}
  },
  {
   "cell_type": "code",
   "execution_count": 12,
   "source": [
    "x = data[0]['label']\n",
    "plt.subplot(1, 3, 1)\n",
    "plt.imshow(x[0])\n",
    "plt.subplot(1, 3, 2)\n",
    "plt.imshow(x[1])\n",
    "plt.subplot(1, 3, 3)\n",
    "plt.imshow(x[2])"
   ],
   "outputs": [
    {
     "output_type": "execute_result",
     "data": {
      "text/plain": [
       "<matplotlib.image.AxesImage at 0x7ff81c1df9d0>"
      ]
     },
     "metadata": {},
     "execution_count": 12
    },
    {
     "output_type": "display_data",
     "data": {
      "text/plain": [
       "<Figure size 432x288 with 3 Axes>"
      ],
      "image/png": "[encoded data removed]",
      "image/svg+xml": "<?xml version=\"1.0\" encoding=\"utf-8\" standalone=\"no\"?>\n<!DOCTYPE svg PUBLIC \"-//W3C//DTD SVG 1.1//EN\"\n  \"http://www.w3.org/Graphics/SVG/1.1/DTD/svg11.dtd\">\n<!-- Created with matplotlib (https://matplotlib.org/) -->\n<svg height=\"132.963281pt\" version=\"1.1\" viewBox=\"0 0 375.2875 132.963281\" width=\"375.2875pt\" xmlns=\"http://www.w3.org/2000/svg\" xmlns:xlink=\"http://www.w3.org/1999/xlink\">\n <metadata>\n  <rdf:RDF xmlns:cc=\"http://creativecommons.org/ns#\" xmlns:dc=\"http://purl.org/dc/elements/1.1/\" xmlns:rdf=\"http://www.w3.org/1999/02/22-rdf-syntax-ns#\">\n   <cc:Work>\n    <dc:type rdf:resource=\"http://purl.org/dc/dcmitype/StillImage\"/>\n    <dc:date>2021-09-03T15:54:06.648049</dc:date>\n    <dc:format>image/svg+xml</dc:format>\n    <dc:creator>\n     <cc:Agent>\n      <dc:title>Matplotlib v3.3.4, https://matplotlib.org/</dc:title>\n     </cc:Agent>\n    </dc:creator>\n   </cc:Work>\n  </rdf:RDF>\n </metadata>\n <defs>\n  <style type=\"text/css\">*{stroke-linecap:butt;stroke-linejoin:round;}</style>\n </defs>\n <g id=\"figure_1\">\n  <g id=\"patch_1\">\n   <path d=\"M 0 132.963281 \nL 375.2875 132.963281 \nL 375.2875 0 \nL 0 0 \nz\n\" style=\"fill:none;\"/>\n  </g>\n  <g id=\"axes_1\">\n   <g id=\"patch_2\">\n    <path d=\"M 33.2875 109.085156 \nL 131.758088 109.085156 \nL 131.758088 10.614568 \nL 33.2875 10.614568 \nz\n\" style=\"fill:#ffffff;\"/>\n   </g>\n   <g clip-path=\"url(#p3a00e1522c)\">\n    <image height=\"99\" id=\"image80b2be2268\" transform=\"scale(1 -1)translate(0 -99)\" width=\"99\" x=\"33.2875\" xlink:href=\"data:image/png;base64,\niVBORw0KGgoAAAANSUhEUgAAAGMAAABjCAYAAACPO76VAAAChUlEQVR4nO3cPWgTYQDG8efu2sZaSynqoK2KXxgQRRCUdhLp4iKoHQVHJ0EoHQQlm4tLHVSKgrsIgqCbLkodBBsQBaW2fg0Kiqj9oI3JuQgiWEhIznte/P/GcC888M9xlyXRUDScChbivAfgN2IYIYYRYhghhhFiGCGGEWIYIYYRYhghhhFiGCGGEWIYIYYRYhghhhFiGCGGEWIYIYYRYhghhhFiGCGGEWIYIYYRYhghhhFiGCGGEWIYIYYRYhghhhFiGCGGEWIYIYYRYhghhpG2vAe0TBTp7bkB1dpTbb49q/Tx07wXNSzoGHF3t5Zu9SqOUsVKVS5eVCFqV+nwTk182qKZJ/3aOvoo75l1i0L775DK0F5duHpFkpQo1Z5CYdlrv9YWNHh5RP3nJ/7VvKYEd2eMXbuk3R0r6rq2J+7Uj85wvmtBPcDfnR3UhqSW94zMBBVj48E36k1W5j0jM8HESHZsU7HnY0NnyouLWvU+o0EZCOaZMXVire6uu9nQmdHpYa0ZD+dtKow7Y98ulY7daOjIq8qsVFqd0aBsBBGjVmjT9o4PDZ25/mVA8cNyNoMyEkSM+MGkTp85pTvz9b3SHn99QJOH+jJe1XpB/eibP7pf3/uSPz77Vqxq+si4JOneQqKRsZNaf/+zqs9e5DGxKUHF+Ju4q0vRpl93wVJF1amZfAc1IZi3qeXU5uak5y/zntESQTwz/hfEMEIMI8QwQgwjxDBCDCPEMEIMI8QwQgwjxDBCDCPEMEIMI8QwQgwjxDBCDCPEMEIMI8QwQgwjxDBCDCPEMEIMI8QwQgwjxDBCDCPEMEIMI8QwQgwjxDBCDCPEMEIMI8QwQgwjxDBCDCM/AcE4YWFxBi6AAAAAAElFTkSuQmCC\" y=\"-10.085156\"/>\n   </g>\n   <g id=\"matplotlib.axis_1\">\n    <g id=\"xtick_1\">\n     <g id=\"line2d_1\">\n      <defs>\n       <path d=\"M 0 0 \nL 0 3.5 \n\" id=\"mdb6cda9f26\" style=\"stroke:#000000;stroke-width:0.8;\"/>\n      </defs>\n      <g>\n       <use style=\"stroke:#000000;stroke-width:0.8;\" x=\"33.672151\" xlink:href=\"#mdb6cda9f26\" y=\"109.085156\"/>\n      </g>\n     </g>\n     <g id=\"text_1\">\n      <!-- 0 -->\n      <g transform=\"translate(30.490901 123.683594)scale(0.1 -0.1)\">\n       <defs>\n        <path d=\"M 31.78125 66.40625 \nQ 24.171875 66.40625 20.328125 58.90625 \nQ 16.5 51.421875 16.5 36.375 \nQ 16.5 21.390625 20.328125 13.890625 \nQ 24.171875 6.390625 31.78125 6.390625 \nQ 39.453125 6.390625 43.28125 13.890625 \nQ 47.125 21.390625 47.125 36.375 \nQ 47.125 51.421875 43.28125 58.90625 \nQ 39.453125 66.40625 31.78125 66.40625 \nz\nM 31.78125 74.21875 \nQ 44.046875 74.21875 50.515625 64.515625 \nQ 56.984375 54.828125 56.984375 36.375 \nQ 56.984375 17.96875 50.515625 8.265625 \nQ 44.046875 -1.421875 31.78125 -1.421875 \nQ 19.53125 -1.421875 13.0625 8.265625 \nQ 6.59375 17.96875 6.59375 36.375 \nQ 6.59375 54.828125 13.0625 64.515625 \nQ 19.53125 74.21875 31.78125 74.21875 \nz\n\" id=\"DejaVuSans-48\"/>\n       </defs>\n       <use xlink:href=\"#DejaVuSans-48\"/>\n      </g>\n     </g>\n    </g>\n    <g id=\"xtick_2\">\n     <g id=\"line2d_2\">\n      <g>\n       <use style=\"stroke:#000000;stroke-width:0.8;\" x=\"72.137224\" xlink:href=\"#mdb6cda9f26\" y=\"109.085156\"/>\n      </g>\n     </g>\n     <g id=\"text_2\">\n      <!-- 50 -->\n      <g transform=\"translate(65.774724 123.683594)scale(0.1 -0.1)\">\n       <defs>\n        <path d=\"M 10.796875 72.90625 \nL 49.515625 72.90625 \nL 49.515625 64.59375 \nL 19.828125 64.59375 \nL 19.828125 46.734375 \nQ 21.96875 47.46875 24.109375 47.828125 \nQ 26.265625 48.1875 28.421875 48.1875 \nQ 40.625 48.1875 47.75 41.5 \nQ 54.890625 34.8125 54.890625 23.390625 \nQ 54.890625 11.625 47.5625 5.09375 \nQ 40.234375 -1.421875 26.90625 -1.421875 \nQ 22.3125 -1.421875 17.546875 -0.640625 \nQ 12.796875 0.140625 7.71875 1.703125 \nL 7.71875 11.625 \nQ 12.109375 9.234375 16.796875 8.0625 \nQ 21.484375 6.890625 26.703125 6.890625 \nQ 35.15625 6.890625 40.078125 11.328125 \nQ 45.015625 15.765625 45.015625 23.390625 \nQ 45.015625 31 40.078125 35.4375 \nQ 35.15625 39.890625 26.703125 39.890625 \nQ 22.75 39.890625 18.8125 39.015625 \nQ 14.890625 38.140625 10.796875 36.28125 \nz\n\" id=\"DejaVuSans-53\"/>\n       </defs>\n       <use xlink:href=\"#DejaVuSans-53\"/>\n       <use x=\"63.623047\" xlink:href=\"#DejaVuSans-48\"/>\n      </g>\n     </g>\n    </g>\n    <g id=\"xtick_3\">\n     <g id=\"line2d_3\">\n      <g>\n       <use style=\"stroke:#000000;stroke-width:0.8;\" x=\"110.602298\" xlink:href=\"#mdb6cda9f26\" y=\"109.085156\"/>\n      </g>\n     </g>\n     <g id=\"text_3\">\n      <!-- 100 -->\n      <g transform=\"translate(101.058548 123.683594)scale(0.1 -0.1)\">\n       <defs>\n        <path d=\"M 12.40625 8.296875 \nL 28.515625 8.296875 \nL 28.515625 63.921875 \nL 10.984375 60.40625 \nL 10.984375 69.390625 \nL 28.421875 72.90625 \nL 38.28125 72.90625 \nL 38.28125 8.296875 \nL 54.390625 8.296875 \nL 54.390625 0 \nL 12.40625 0 \nz\n\" id=\"DejaVuSans-49\"/>\n       </defs>\n       <use xlink:href=\"#DejaVuSans-49\"/>\n       <use x=\"63.623047\" xlink:href=\"#DejaVuSans-48\"/>\n       <use x=\"127.246094\" xlink:href=\"#DejaVuSans-48\"/>\n      </g>\n     </g>\n    </g>\n   </g>\n   <g id=\"matplotlib.axis_2\">\n    <g id=\"ytick_1\">\n     <g id=\"line2d_4\">\n      <defs>\n       <path d=\"M 0 0 \nL -3.5 0 \n\" id=\"mc315db6930\" style=\"stroke:#000000;stroke-width:0.8;\"/>\n      </defs>\n      <g>\n       <use style=\"stroke:#000000;stroke-width:0.8;\" x=\"33.2875\" xlink:href=\"#mc315db6930\" y=\"10.999219\"/>\n      </g>\n     </g>\n     <g id=\"text_4\">\n      <!-- 0 -->\n      <g transform=\"translate(19.925 14.798437)scale(0.1 -0.1)\">\n       <use xlink:href=\"#DejaVuSans-48\"/>\n      </g>\n     </g>\n    </g>\n    <g id=\"ytick_2\">\n     <g id=\"line2d_5\">\n      <g>\n       <use style=\"stroke:#000000;stroke-width:0.8;\" x=\"33.2875\" xlink:href=\"#mc315db6930\" y=\"49.464292\"/>\n      </g>\n     </g>\n     <g id=\"text_5\">\n      <!-- 50 -->\n      <g transform=\"translate(13.5625 53.263511)scale(0.1 -0.1)\">\n       <use xlink:href=\"#DejaVuSans-53\"/>\n       <use x=\"63.623047\" xlink:href=\"#DejaVuSans-48\"/>\n      </g>\n     </g>\n    </g>\n    <g id=\"ytick_3\">\n     <g id=\"line2d_6\">\n      <g>\n       <use style=\"stroke:#000000;stroke-width:0.8;\" x=\"33.2875\" xlink:href=\"#mc315db6930\" y=\"87.929366\"/>\n      </g>\n     </g>\n     <g id=\"text_6\">\n      <!-- 100 -->\n      <g transform=\"translate(7.2 91.728585)scale(0.1 -0.1)\">\n       <use xlink:href=\"#DejaVuSans-49\"/>\n       <use x=\"63.623047\" xlink:href=\"#DejaVuSans-48\"/>\n       <use x=\"127.246094\" xlink:href=\"#DejaVuSans-48\"/>\n      </g>\n     </g>\n    </g>\n   </g>\n   <g id=\"patch_3\">\n    <path d=\"M 33.2875 109.085156 \nL 33.2875 10.614568 \n\" style=\"fill:none;stroke:#000000;stroke-linecap:square;stroke-linejoin:miter;stroke-width:0.8;\"/>\n   </g>\n   <g id=\"patch_4\">\n    <path d=\"M 131.758088 109.085156 \nL 131.758088 10.614568 \n\" style=\"fill:none;stroke:#000000;stroke-linecap:square;stroke-linejoin:miter;stroke-width:0.8;\"/>\n   </g>\n   <g id=\"patch_5\">\n    <path d=\"M 33.2875 109.085156 \nL 131.758088 109.085156 \n\" style=\"fill:none;stroke:#000000;stroke-linecap:square;stroke-linejoin:miter;stroke-width:0.8;\"/>\n   </g>\n   <g id=\"patch_6\">\n    <path d=\"M 33.2875 10.614568 \nL 131.758088 10.614568 \n\" style=\"fill:none;stroke:#000000;stroke-linecap:square;stroke-linejoin:miter;stroke-width:0.8;\"/>\n   </g>\n  </g>\n  <g id=\"axes_2\">\n   <g id=\"patch_7\">\n    <path d=\"M 151.452206 109.085156 \nL 249.922794 109.085156 \nL 249.922794 10.614568 \nL 151.452206 10.614568 \nz\n\" style=\"fill:#ffffff;\"/>\n   </g>\n   <g clip-path=\"url(#pa0dc2016b7)\">\n    <image height=\"99\" id=\"image1759db31c2\" transform=\"scale(1 -1)translate(0 -99)\" width=\"99\" x=\"151.452206\" xlink:href=\"data:image/png;base64,\niVBORw0KGgoAAAANSUhEUgAAAGMAAABjCAYAAACPO76VAAAClElEQVR4nO3cz0uTcQDH8c8zV24oBq1jw2QRCUlMEYI6hNS1DkZFHaIfEHjoVJe6hETH+g+yoDp4LeogEQURJChYUlEoHTIFD5qgy9yeDgXRIdjWnp73U5/XaRvfL3zgzTbYYcG+4FAoQ0jFPcB+cgwQxwBxDBDHAHEMEMcAcQwQxwBxDBDHAHEMEMcAcQwQxwBxDBDHAHEMEMcAcQwQxwBxDBDHAHEMEMcAcQwQxwBxDBDHAHEMEMcAcQwQxwBxDBDHAHEMEMcAcQwQxwBxDJB03AMaaa2vR2FKyk5+1Nqn2bjn1CzRMVKZjKYuFX88kV6cuKYNqayKo0e1PNGhtilp49DzeEfWIEja31Wk2/NavfH9cXPTmu5ve/jbs89KFV2ePqim820Kxyf/0sL6Jeqdkc5v1qmRJ+pv/VzV+d2ZlEY676kvd1rrIt7WCIn6Ai/fCqsOkUSJibF0ZJcG8o/jnhGpxMSY3xnoQMty3DMilYgYTZtyqmxZqevunaWc1i+uNnhRNBIRY6WnQ+/33qzr7uDwYYWjLxs7KCL4GEFzs7qvjtV199xMrwp35xu8KDr8GEGg7tYPNd/7En7Vg7c7VH79LoJV0cDHqJRKut2/XxdmizXd63p6RoXj4xGtigY+hiRVXr3RxECXrsxvr+p84dFJbT07HfGqxkvUzyHp9rzCluwvr83tyWno4nVJ0vBCr8aOdUozcyovLMYx8Y8kKsa/LhEfU/8LxwBxDBDHAHEMEMcAcQwQxwBxDBDHAHEMEMcAcQwQxwBxDBDHAHEMEMcAcQwQxwBxDBDHAHEMEMcAcQwQxwBxDBDHAHEMEMcAcQwQxwBxDBDHAHEMEMcAcQwQxwBxDBDHAHEMEMcAcQyQb3dbaWBNbjQKAAAAAElFTkSuQmCC\" y=\"-10.085156\"/>\n   </g>\n   <g id=\"matplotlib.axis_3\">\n    <g id=\"xtick_4\">\n     <g id=\"line2d_7\">\n      <g>\n       <use style=\"stroke:#000000;stroke-width:0.8;\" x=\"151.836857\" xlink:href=\"#mdb6cda9f26\" y=\"109.085156\"/>\n      </g>\n     </g>\n     <g id=\"text_7\">\n      <!-- 0 -->\n      <g transform=\"translate(148.655607 123.683594)scale(0.1 -0.1)\">\n       <use xlink:href=\"#DejaVuSans-48\"/>\n      </g>\n     </g>\n    </g>\n    <g id=\"xtick_5\">\n     <g id=\"line2d_8\">\n      <g>\n       <use style=\"stroke:#000000;stroke-width:0.8;\" x=\"190.30193\" xlink:href=\"#mdb6cda9f26\" y=\"109.085156\"/>\n      </g>\n     </g>\n     <g id=\"text_8\">\n      <!-- 50 -->\n      <g transform=\"translate(183.93943 123.683594)scale(0.1 -0.1)\">\n       <use xlink:href=\"#DejaVuSans-53\"/>\n       <use x=\"63.623047\" xlink:href=\"#DejaVuSans-48\"/>\n      </g>\n     </g>\n    </g>\n    <g id=\"xtick_6\">\n     <g id=\"line2d_9\">\n      <g>\n       <use style=\"stroke:#000000;stroke-width:0.8;\" x=\"228.767004\" xlink:href=\"#mdb6cda9f26\" y=\"109.085156\"/>\n      </g>\n     </g>\n     <g id=\"text_9\">\n      <!-- 100 -->\n      <g transform=\"translate(219.223254 123.683594)scale(0.1 -0.1)\">\n       <use xlink:href=\"#DejaVuSans-49\"/>\n       <use x=\"63.623047\" xlink:href=\"#DejaVuSans-48\"/>\n       <use x=\"127.246094\" xlink:href=\"#DejaVuSans-48\"/>\n      </g>\n     </g>\n    </g>\n   </g>\n   <g id=\"matplotlib.axis_4\">\n    <g id=\"ytick_4\">\n     <g id=\"line2d_10\">\n      <g>\n       <use style=\"stroke:#000000;stroke-width:0.8;\" x=\"151.452206\" xlink:href=\"#mc315db6930\" y=\"10.999219\"/>\n      </g>\n     </g>\n     <g id=\"text_10\">\n      <!-- 0 -->\n      <g transform=\"translate(138.089706 14.798438)scale(0.1 -0.1)\">\n       <use xlink:href=\"#DejaVuSans-48\"/>\n      </g>\n     </g>\n    </g>\n    <g id=\"ytick_5\">\n     <g id=\"line2d_11\">\n      <g>\n       <use style=\"stroke:#000000;stroke-width:0.8;\" x=\"151.452206\" xlink:href=\"#mc315db6930\" y=\"49.464292\"/>\n      </g>\n     </g>\n     <g id=\"text_11\">\n      <!-- 50 -->\n      <g transform=\"translate(131.727206 53.263511)scale(0.1 -0.1)\">\n       <use xlink:href=\"#DejaVuSans-53\"/>\n       <use x=\"63.623047\" xlink:href=\"#DejaVuSans-48\"/>\n      </g>\n     </g>\n    </g>\n    <g id=\"ytick_6\">\n     <g id=\"line2d_12\">\n      <g>\n       <use style=\"stroke:#000000;stroke-width:0.8;\" x=\"151.452206\" xlink:href=\"#mc315db6930\" y=\"87.929366\"/>\n      </g>\n     </g>\n     <g id=\"text_12\">\n      <!-- 100 -->\n      <g transform=\"translate(125.364706 91.728585)scale(0.1 -0.1)\">\n       <use xlink:href=\"#DejaVuSans-49\"/>\n       <use x=\"63.623047\" xlink:href=\"#DejaVuSans-48\"/>\n       <use x=\"127.246094\" xlink:href=\"#DejaVuSans-48\"/>\n      </g>\n     </g>\n    </g>\n   </g>\n   <g id=\"patch_8\">\n    <path d=\"M 151.452206 109.085156 \nL 151.452206 10.614568 \n\" style=\"fill:none;stroke:#000000;stroke-linecap:square;stroke-linejoin:miter;stroke-width:0.8;\"/>\n   </g>\n   <g id=\"patch_9\">\n    <path d=\"M 249.922794 109.085156 \nL 249.922794 10.614568 \n\" style=\"fill:none;stroke:#000000;stroke-linecap:square;stroke-linejoin:miter;stroke-width:0.8;\"/>\n   </g>\n   <g id=\"patch_10\">\n    <path d=\"M 151.452206 109.085156 \nL 249.922794 109.085156 \n\" style=\"fill:none;stroke:#000000;stroke-linecap:square;stroke-linejoin:miter;stroke-width:0.8;\"/>\n   </g>\n   <g id=\"patch_11\">\n    <path d=\"M 151.452206 10.614568 \nL 249.922794 10.614568 \n\" style=\"fill:none;stroke:#000000;stroke-linecap:square;stroke-linejoin:miter;stroke-width:0.8;\"/>\n   </g>\n  </g>\n  <g id=\"axes_3\">\n   <g id=\"patch_12\">\n    <path d=\"M 269.616912 109.085156 \nL 368.0875 109.085156 \nL 368.0875 10.614568 \nL 269.616912 10.614568 \nz\n\" style=\"fill:#ffffff;\"/>\n   </g>\n   <g clip-path=\"url(#p4e3c60bb27)\">\n    <image height=\"99\" id=\"imagebfd80ad98f\" transform=\"scale(1 -1)translate(0 -99)\" width=\"99\" x=\"269.616912\" xlink:href=\"data:image/png;base64,\niVBORw0KGgoAAAANSUhEUgAAAGMAAABjCAYAAACPO76VAAACvklEQVR4nO3cPWgTYQDG8efNqzUp6WKK0Eq0YquCGYxu4hciCoqDIILUQXB0ELXoKIKbVCh+tqCbiEtxlIrQSahQM4ig0lIFqVisRZDa+0jOUQSLXHrnPa8+vzFwx3P8k1ySIWafORpBKOSyHiA/KQYRxSCiGEQUg4hiEFEMIopBRDGIKAYRxSCiGEQUg4hiEFEMIopBRDGIKAYRxSCiGEQUg4hiEFEMIopBRDGIKAYRxSCiGEQUg4hiEFEMIopBRDGIKAYRxSCiGEQUg4hiEFEMIsuyHpCkXD4PAGj4AdCoZ7wmPrdj5CyCvVsAAJE1GBwaQKe1qN4/i/ITHy2zC4hqr7LdGINx7R8SbHsJk2c2AAAaK4DXvTdhze/fba/PrcWN4YPovjeNcOr935zZFOdieCNdGK08inXMiXd78Hn3PKLAT2dUQpy5gdvSSngjXXi6eTj2sXfWPIax/JfqzD1j4vxGvK3chkPPn9icuLJcZRMOHxjLekbqnIixsLqI/o4XWc9IHX8MYzCztWVJp7j0aTuiiP9zCn2MXKGAsdPXlnSO2sUqIs9LaFF66GNM3u1BwTT/yugePYl8bSrBRemhj9FZ+rrol7o/+RB+Q+t4K+qzXxJelQ76GPlD09j18kjs4+bq89g/dAEd/c9SWJUO+hhR4KPtlI9t48diHbfjVh/KV9wJATj0c4htL+H7gyIGeh7+8nibCbFueREA4EUB3gR1HB88h/LV54jCMIupTXMmxmIaO6uwl2cAABMfV2F9by3jRc1zPsa/hP6e8T9RDCKKQUQxiCgGEcUgohhEFIOIYhBRDCKKQUQxiCgGEcUgohhEFIOIYhBRDCKKQUQxiCgGEcUgohhEFIOIYhBRDCKKQUQxiCgGEcUgohhEFIOIYhBRDCKKQUQxiCgGEcUgohhEFIOIYhBRDCI/ALrUfLJJYRPeAAAAAElFTkSuQmCC\" y=\"-10.085156\"/>\n   </g>\n   <g id=\"matplotlib.axis_5\">\n    <g id=\"xtick_7\">\n     <g id=\"line2d_13\">\n      <g>\n       <use style=\"stroke:#000000;stroke-width:0.8;\" x=\"270.001563\" xlink:href=\"#mdb6cda9f26\" y=\"109.085156\"/>\n      </g>\n     </g>\n     <g id=\"text_13\">\n      <!-- 0 -->\n      <g transform=\"translate(266.820313 123.683594)scale(0.1 -0.1)\">\n       <use xlink:href=\"#DejaVuSans-48\"/>\n      </g>\n     </g>\n    </g>\n    <g id=\"xtick_8\">\n     <g id=\"line2d_14\">\n      <g>\n       <use style=\"stroke:#000000;stroke-width:0.8;\" x=\"308.466636\" xlink:href=\"#mdb6cda9f26\" y=\"109.085156\"/>\n      </g>\n     </g>\n     <g id=\"text_14\">\n      <!-- 50 -->\n      <g transform=\"translate(302.104136 123.683594)scale(0.1 -0.1)\">\n       <use xlink:href=\"#DejaVuSans-53\"/>\n       <use x=\"63.623047\" xlink:href=\"#DejaVuSans-48\"/>\n      </g>\n     </g>\n    </g>\n    <g id=\"xtick_9\">\n     <g id=\"line2d_15\">\n      <g>\n       <use style=\"stroke:#000000;stroke-width:0.8;\" x=\"346.93171\" xlink:href=\"#mdb6cda9f26\" y=\"109.085156\"/>\n      </g>\n     </g>\n     <g id=\"text_15\">\n      <!-- 100 -->\n      <g transform=\"translate(337.38796 123.683594)scale(0.1 -0.1)\">\n       <use xlink:href=\"#DejaVuSans-49\"/>\n       <use x=\"63.623047\" xlink:href=\"#DejaVuSans-48\"/>\n       <use x=\"127.246094\" xlink:href=\"#DejaVuSans-48\"/>\n      </g>\n     </g>\n    </g>\n   </g>\n   <g id=\"matplotlib.axis_6\">\n    <g id=\"ytick_7\">\n     <g id=\"line2d_16\">\n      <g>\n       <use style=\"stroke:#000000;stroke-width:0.8;\" x=\"269.616912\" xlink:href=\"#mc315db6930\" y=\"10.999219\"/>\n      </g>\n     </g>\n     <g id=\"text_16\">\n      <!-- 0 -->\n      <g transform=\"translate(256.254412 14.798437)scale(0.1 -0.1)\">\n       <use xlink:href=\"#DejaVuSans-48\"/>\n      </g>\n     </g>\n    </g>\n    <g id=\"ytick_8\">\n     <g id=\"line2d_17\">\n      <g>\n       <use style=\"stroke:#000000;stroke-width:0.8;\" x=\"269.616912\" xlink:href=\"#mc315db6930\" y=\"49.464292\"/>\n      </g>\n     </g>\n     <g id=\"text_17\">\n      <!-- 50 -->\n      <g transform=\"translate(249.891912 53.263511)scale(0.1 -0.1)\">\n       <use xlink:href=\"#DejaVuSans-53\"/>\n       <use x=\"63.623047\" xlink:href=\"#DejaVuSans-48\"/>\n      </g>\n     </g>\n    </g>\n    <g id=\"ytick_9\">\n     <g id=\"line2d_18\">\n      <g>\n       <use style=\"stroke:#000000;stroke-width:0.8;\" x=\"269.616912\" xlink:href=\"#mc315db6930\" y=\"87.929366\"/>\n      </g>\n     </g>\n     <g id=\"text_18\">\n      <!-- 100 -->\n      <g transform=\"translate(243.529412 91.728585)scale(0.1 -0.1)\">\n       <use xlink:href=\"#DejaVuSans-49\"/>\n       <use x=\"63.623047\" xlink:href=\"#DejaVuSans-48\"/>\n       <use x=\"127.246094\" xlink:href=\"#DejaVuSans-48\"/>\n      </g>\n     </g>\n    </g>\n   </g>\n   <g id=\"patch_13\">\n    <path d=\"M 269.616912 109.085156 \nL 269.616912 10.614568 \n\" style=\"fill:none;stroke:#000000;stroke-linecap:square;stroke-linejoin:miter;stroke-width:0.8;\"/>\n   </g>\n   <g id=\"patch_14\">\n    <path d=\"M 368.0875 109.085156 \nL 368.0875 10.614568 \n\" style=\"fill:none;stroke:#000000;stroke-linecap:square;stroke-linejoin:miter;stroke-width:0.8;\"/>\n   </g>\n   <g id=\"patch_15\">\n    <path d=\"M 269.616912 109.085156 \nL 368.0875 109.085156 \n\" style=\"fill:none;stroke:#000000;stroke-linecap:square;stroke-linejoin:miter;stroke-width:0.8;\"/>\n   </g>\n   <g id=\"patch_16\">\n    <path d=\"M 269.616912 10.614568 \nL 368.0875 10.614568 \n\" style=\"fill:none;stroke:#000000;stroke-linecap:square;stroke-linejoin:miter;stroke-width:0.8;\"/>\n   </g>\n  </g>\n </g>\n <defs>\n  <clipPath id=\"p3a00e1522c\">\n   <rect height=\"98.470588\" width=\"98.470588\" x=\"33.2875\" y=\"10.614568\"/>\n  </clipPath>\n  <clipPath id=\"pa0dc2016b7\">\n   <rect height=\"98.470588\" width=\"98.470588\" x=\"151.452206\" y=\"10.614568\"/>\n  </clipPath>\n  <clipPath id=\"p4e3c60bb27\">\n   <rect height=\"98.470588\" width=\"98.470588\" x=\"269.616912\" y=\"10.614568\"/>\n  </clipPath>\n </defs>\n</svg>\n"
     },
     "metadata": {
      "needs_background": "light"
     }
    }
   ],
   "metadata": {}
  },
  {
   "cell_type": "code",
   "execution_count": 13,
   "source": [
    "import scipy.stats as s\n",
    "import numpy as np"
   ],
   "outputs": [],
   "metadata": {}
  },
  {
   "cell_type": "code",
   "execution_count": 18,
   "source": [
    "q_s = np.load('/data/ssd/wanghao/bOEMD_run/lidc-syn/lidc-syn-shuffle/experiment_03/qubiq.npy')\n",
    "ged_s = np.load('/data/ssd/wanghao/bOEMD_run/lidc-syn/lidc-syn-shuffle/experiment_03/ged.npy')\n",
    "sd_s = np.load('/data/ssd/wanghao/bOEMD_run/lidc-syn/lidc-syn-shuffle/experiment_03/sd.npy')\n",
    "sa_s = np.load('/data/ssd/wanghao/bOEMD_run/lidc-syn/lidc-syn-shuffle/experiment_03/sa.npy')\n",
    "\n",
    "q_s = np.mean(q_s, axis=1)"
   ],
   "outputs": [],
   "metadata": {}
  },
  {
   "cell_type": "code",
   "execution_count": 33,
   "source": [
    "q_u = np.load('/data/ssd/wanghao/bOEMD_run/lidc-syn/lidc-syn-shuffle/experiment_04/qubiq.npy')\n",
    "ged_u = np.load('/data/ssd/wanghao/bOEMD_run/lidc-syn/lidc-syn-shuffle/experiment_04/ged.npy')\n",
    "sd_u = np.load('/data/ssd/wanghao/bOEMD_run/lidc-syn/lidc-syn-shuffle/experiment_04/sd.npy')\n",
    "sa_u = np.load('/data/ssd/wanghao/bOEMD_run/lidc-syn/lidc-syn-shuffle/experiment_04/sa.npy')\n",
    "\n",
    "q_u = np.mean(q_u, axis=1)"
   ],
   "outputs": [],
   "metadata": {}
  },
  {
   "cell_type": "code",
   "execution_count": null,
   "source": [
    "np.mean(ged_u)"
   ],
   "outputs": [],
   "metadata": {}
  },
  {
   "cell_type": "code",
   "execution_count": 34,
   "source": [
    "# qubiq\n",
    "s.ttest_ind(q_s, q_u)"
   ],
   "outputs": [
    {
     "output_type": "execute_result",
     "data": {
      "text/plain": [
       "Ttest_indResult(statistic=-3.7514623731738683, pvalue=0.0001791143382186842)"
      ]
     },
     "metadata": {},
     "execution_count": 34
    }
   ],
   "metadata": {}
  },
  {
   "cell_type": "code",
   "execution_count": 35,
   "source": [
    "# ged\n",
    "s.ttest_ind(ged_s, ged_u)"
   ],
   "outputs": [
    {
     "output_type": "execute_result",
     "data": {
      "text/plain": [
       "Ttest_indResult(statistic=2.512887490748402, pvalue=0.012026509565022122)"
      ]
     },
     "metadata": {},
     "execution_count": 35
    }
   ],
   "metadata": {}
  },
  {
   "cell_type": "code",
   "execution_count": 36,
   "source": [
    "# sample diversity\n",
    "s.ttest_ind(sd_s, sd_u)"
   ],
   "outputs": [
    {
     "output_type": "execute_result",
     "data": {
      "text/plain": [
       "Ttest_indResult(statistic=-4.948595766334791, pvalue=7.885280884542132e-07)"
      ]
     },
     "metadata": {},
     "execution_count": 36
    }
   ],
   "metadata": {}
  },
  {
   "cell_type": "code",
   "execution_count": null,
   "source": [
    "# sample accuracy\n",
    "s.ttest_ind(sa_s, sa_u)"
   ],
   "outputs": [],
   "metadata": {}
  }
 ],
 "metadata": {
  "orig_nbformat": 4,
  "language_info": {
   "name": "python",
   "version": "3.9.6",
   "mimetype": "text/x-python",
   "codemirror_mode": {
    "name": "ipython",
    "version": 3
   },
   "pygments_lexer": "ipython3",
   "nbconvert_exporter": "python",
   "file_extension": ".py"
  },
  "kernelspec": {
   "name": "python3",
   "display_name": "Python 3.9.6 64-bit ('pytorch': conda)"
  },
  "interpreter": {
   "hash": "206983ae6b9d91fc925c090b5a29d35f296b705091a3c445f7cf64828df8154a"
  }
 },
 "nbformat": 4,
 "nbformat_minor": 2
}